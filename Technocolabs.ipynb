{
 "cells": [
  {
   "cell_type": "markdown",
   "id": "vocal-mustang",
   "metadata": {
    "id": "finished-workplace"
   },
   "source": [
    "# 2. Loading Blood Donations dataset"
   ]
  },
  {
   "cell_type": "code",
   "execution_count": 1,
   "id": "lined-links",
   "metadata": {
    "colab": {
     "base_uri": "https://localhost:8080/",
     "height": 438
    },
    "id": "personalized-score",
    "outputId": "e0744060-8c4d-4eab-e08a-6c05689ec7b7"
   },
   "outputs": [],
   "source": [
    "#Import Pandas\n",
    "import pandas as pd\n",
    "\n",
    "\n",
    "#Read the Dataset\n",
    "\n",
    "transfusion = pd.read_csv('transfusion.data')\n",
    "\n",
    "\n"
   ]
  },
  {
   "cell_type": "markdown",
   "id": "accepting-dairy",
   "metadata": {
    "id": "surgical-whole"
   },
   "source": [
    "# 3. Inspecting transfusion dataframe"
   ]
  },
  {
   "cell_type": "markdown",
   "id": "spectacular-humanity",
   "metadata": {
    "id": "finite-diabetes"
   },
   "source": [
    "# 4. Creating Target Column\n"
   ]
  },
  {
   "cell_type": "code",
   "execution_count": 3,
   "id": "dimensional-logic",
   "metadata": {
    "colab": {
     "base_uri": "https://localhost:8080/",
     "height": 229
    },
    "id": "boxed-aquatic",
    "outputId": "6b9883d0-d0b8-4264-9c80-6f5ddc054746"
   },
   "outputs": [],
   "source": [
    "# Rename target column as 'target' for brevity \n",
    "transfusion.rename(\n",
    "    columns={'whether he/she donated blood in March 2007':'target'},\n",
    "    inplace=True\n",
    ")\n"
   ]
  },
  {
   "cell_type": "markdown",
   "id": "found-israeli",
   "metadata": {
    "id": "biological-spouse"
   },
   "source": [
    "# 5. Checking Target Incidence\n"
   ]
  },
  {
   "cell_type": "code",
   "execution_count": 4,
   "id": "manufactured-neighborhood",
   "metadata": {
    "id": "informative-academy",
    "outputId": "3d27b408-6293-4656-eec9-1f66aef450e6"
   },
   "outputs": [
    {
     "data": {
      "text/plain": [
       "0    0.762032\n",
       "1    0.237968\n",
       "Name: target, dtype: float64"
      ]
     },
     "execution_count": 4,
     "metadata": {},
     "output_type": "execute_result"
    }
   ],
   "source": [
    "# Print target incidence proportions, rounding output to 3 decimal places\n",
    "transfusion.target.value_counts(normalize=True)"
   ]
  },
  {
   "cell_type": "markdown",
   "id": "dynamic-geology",
   "metadata": {
    "id": "miniature-opportunity"
   },
   "source": [
    "# 6. Splitting transfusion ino train and test datasets"
   ]
  },
  {
   "cell_type": "code",
   "execution_count": 6,
   "id": "sweet-bubble",
   "metadata": {
    "id": "specified-proof",
    "outputId": "600c31bb-1212-4bd5-e706-a8e1af2154f5"
   },
   "outputs": [],
   "source": [
    "## Import train_test_split method\n",
    "from sklearn.model_selection import train_test_split\n",
    "\n",
    "# Split transfusion DataFrame into\n",
    "# X_train, X_test, y_train and y_test datasets,\n",
    "# stratifying on the `target` column\n",
    "X_train, X_test, y_train, y_test = train_test_split(\n",
    "    transfusion.drop(columns='target'),\n",
    "    transfusion.target,\n",
    "    test_size=0.25,\n",
    "    random_state=42,\n",
    "    stratify=transfusion.target\n",
    ")\n",
    "\n"
   ]
  },
  {
   "cell_type": "markdown",
   "id": "tender-remedy",
   "metadata": {
    "id": "appreciated-passage"
   },
   "source": [
    "# 7. Selecting Model using TPOT"
   ]
  },
  {
   "cell_type": "code",
   "execution_count": 7,
   "id": "annoying-destination",
   "metadata": {},
   "outputs": [
    {
     "name": "stdout",
     "output_type": "stream",
     "text": [
      "Requirement already satisfied: tpot in c:\\users\\rajeshsir\\appdata\\local\\programs\\python\\python39\\lib\\site-packages (0.11.7)Note: you may need to restart the kernel to use updated packages.\n",
      "Requirement already satisfied: xgboost>=1.1.0 in c:\\users\\rajeshsir\\appdata\\local\\programs\\python\\python39\\lib\\site-packages (from tpot) (1.3.3)\n",
      "Requirement already satisfied: scipy>=1.3.1 in c:\\users\\rajeshsir\\appdata\\local\\programs\\python\\python39\\lib\\site-packages (from tpot) (1.6.1)\n",
      "Requirement already satisfied: pandas>=0.24.2 in c:\\users\\rajeshsir\\appdata\\local\\programs\\python\\python39\\lib\\site-packages (from tpot) (1.2.2)\n",
      "Requirement already satisfied: update-checker>=0.16 in c:\\users\\rajeshsir\\appdata\\local\\programs\\python\\python39\\lib\\site-packages (from tpot) (0.18.0)\n",
      "Requirement already satisfied: tqdm>=4.36.1 in c:\\users\\rajeshsir\\appdata\\local\\programs\\python\\python39\\lib\\site-packages (from tpot) (4.58.0)\n",
      "Requirement already satisfied: stopit>=1.1.1 in c:\\users\\rajeshsir\\appdata\\local\\programs\\python\\python39\\lib\\site-packages (from tpot) (1.1.2)\n",
      "Requirement already satisfied: numpy>=1.16.3 in c:\\users\\rajeshsir\\appdata\\local\\programs\\python\\python39\\lib\\site-packages (from tpot) (1.20.1)\n",
      "Requirement already satisfied: joblib>=0.13.2 in c:\\users\\rajeshsir\\appdata\\local\\programs\\python\\python39\\lib\\site-packages (from tpot) (1.0.1)\n",
      "Requirement already satisfied: deap>=1.2 in c:\\users\\rajeshsir\\appdata\\local\\programs\\python\\python39\\lib\\site-packages (from tpot) (1.3.1)\n",
      "Requirement already satisfied: scikit-learn>=0.22.0 in c:\\users\\rajeshsir\\appdata\\local\\programs\\python\\python39\\lib\\site-packages (from tpot) (0.24.1)\n",
      "Requirement already satisfied: python-dateutil>=2.7.3 in c:\\users\\rajeshsir\\appdata\\local\\programs\\python\\python39\\lib\\site-packages (from pandas>=0.24.2->tpot) (2.8.1)\n",
      "Requirement already satisfied: pytz>=2017.3 in c:\\users\\rajeshsir\\appdata\\local\\programs\\python\\python39\\lib\\site-packages (from pandas>=0.24.2->tpot) (2021.1)\n",
      "Requirement already satisfied: requests>=2.3.0 in c:\\users\\rajeshsir\\appdata\\local\\programs\\python\\python39\\lib\\site-packages (from update-checker>=0.16->tpot) (2.25.1)\n",
      "Requirement already satisfied: threadpoolctl>=2.0.0 in c:\\users\\rajeshsir\\appdata\\local\\programs\\python\\python39\\lib\\site-packages (from scikit-learn>=0.22.0->tpot) (2.1.0)\n",
      "Requirement already satisfied: six>=1.5 in c:\\users\\rajeshsir\\appdata\\local\\programs\\python\\python39\\lib\\site-packages (from python-dateutil>=2.7.3->pandas>=0.24.2->tpot) (1.15.0)\n",
      "Requirement already satisfied: chardet<5,>=3.0.2 in c:\\users\\rajeshsir\\appdata\\local\\programs\\python\\python39\\lib\\site-packages (from requests>=2.3.0->update-checker>=0.16->tpot) (4.0.0)\n",
      "Requirement already satisfied: urllib3<1.27,>=1.21.1 in c:\\users\\rajeshsir\\appdata\\local\\programs\\python\\python39\\lib\\site-packages (from requests>=2.3.0->update-checker>=0.16->tpot) (1.26.3)\n",
      "Requirement already satisfied: idna<3,>=2.5 in c:\\users\\rajeshsir\\appdata\\local\\programs\\python\\python39\\lib\\site-packages (from requests>=2.3.0->update-checker>=0.16->tpot) (2.10)\n",
      "\n",
      "Requirement already satisfied: certifi>=2017.4.17 in c:\\users\\rajeshsir\\appdata\\local\\programs\\python\\python39\\lib\\site-packages (from requests>=2.3.0->update-checker>=0.16->tpot) (2020.12.5)"
     ]
    },
    {
     "name": "stderr",
     "output_type": "stream",
     "text": [
      "WARNING: You are using pip version 20.2.3; however, version 21.0.1 is available.\n",
      "You should consider upgrading via the 'c:\\users\\rajeshsir\\appdata\\local\\programs\\python\\python39\\python.exe -m pip install --upgrade pip' command.\n"
     ]
    },
    {
     "name": "stdout",
     "output_type": "stream",
     "text": [
      "\n"
     ]
    }
   ],
   "source": [
    "pip install tpot"
   ]
  },
  {
   "cell_type": "code",
   "execution_count": 8,
   "id": "geological-affiliate",
   "metadata": {
    "colab": {
     "referenced_widgets": [
      ""
     ]
    },
    "id": "conservative-contractor",
    "outputId": "99ecfdce-1358-4226-c7b3-d33ea2d53e9b"
   },
   "outputs": [
    {
     "name": "stderr",
     "output_type": "stream",
     "text": [
      "c:\\users\\rajeshsir\\appdata\\local\\programs\\python\\python39\\lib\\site-packages\\tpot\\builtins\\__init__.py:36: UserWarning: Warning: optional dependency `torch` is not available. - skipping import of NN models.\n",
      "  warnings.warn(\"Warning: optional dependency `torch` is not available. - skipping import of NN models.\")\n"
     ]
    },
    {
     "data": {
      "application/vnd.jupyter.widget-view+json": {
       "model_id": "",
       "version_major": 2,
       "version_minor": 0
      },
      "text/plain": [
       "Optimization Progress:   0%|          | 0/120 [00:00<?, ?pipeline/s]"
      ]
     },
     "metadata": {},
     "output_type": "display_data"
    },
    {
     "name": "stdout",
     "output_type": "stream",
     "text": [
      "\n",
      "Generation 1 - Current best internal CV score: 0.7422459184429089\n",
      "\n",
      "Generation 2 - Current best internal CV score: 0.7422459184429089\n",
      "\n",
      "Generation 3 - Current best internal CV score: 0.7422459184429089\n",
      "\n",
      "Generation 4 - Current best internal CV score: 0.7422459184429089\n",
      "\n",
      "Generation 5 - Current best internal CV score: 0.7456308339276876\n",
      "\n",
      "Best pipeline: MultinomialNB(Normalizer(input_matrix, norm=l2), alpha=0.001, fit_prior=True)\n",
      "\n",
      "AUC score: 0.7637\n",
      "\n",
      "Best pipeline steps:\n",
      "1. Normalizer()\n",
      "2. MultinomialNB(alpha=0.001)\n"
     ]
    }
   ],
   "source": [
    "# Import TPOTClassifier and roc_auc_score\n",
    "from tpot import TPOTClassifier\n",
    "from sklearn.metrics import roc_auc_score\n",
    "\n",
    "# Instantiate TPOTClassifier\n",
    "tpot = TPOTClassifier(\n",
    "    generations=5,\n",
    "    population_size=20,\n",
    "    verbosity=2,\n",
    "    scoring='roc_auc',\n",
    "    random_state=42,\n",
    "    disable_update_check=True,\n",
    "    config_dict='TPOT light'\n",
    ")\n",
    "tpot.fit(X_train, y_train)\n",
    "\n",
    "# AUC score for tpot model\n",
    "tpot_auc_score = roc_auc_score(y_test, tpot.predict_proba(X_test)[:, 1])\n",
    "print(f'\\nAUC score: {tpot_auc_score:.4f}')\n",
    "\n",
    "# Print best pipeline steps\n",
    "print('\\nBest pipeline steps:', end='\\n')\n",
    "for idx, (name, transform) in enumerate(tpot.fitted_pipeline_.steps, start=1):\n",
    "    # Print idx and transform\n",
    "    print(f'{idx}. {transform}')"
   ]
  },
  {
   "cell_type": "markdown",
   "id": "whole-nirvana",
   "metadata": {
    "id": "parliamentary-highland"
   },
   "source": [
    "# 8. Checking the Variance"
   ]
  },
  {
   "cell_type": "code",
   "execution_count": 10,
   "id": "acting-cornwall",
   "metadata": {
    "id": "quantitative-circus",
    "outputId": "b0fcfe7c-7eb5-4e5a-fb77-932aa458c87b"
   },
   "outputs": [
    {
     "data": {
      "text/plain": [
       "Recency (months)              66.929\n",
       "Frequency (times)             33.830\n",
       "Monetary (c.c. blood)    2114363.700\n",
       "Time (months)                611.147\n",
       "dtype: float64"
      ]
     },
     "execution_count": 10,
     "metadata": {},
     "output_type": "execute_result"
    }
   ],
   "source": [
    "# X_train's variance, rounding the output to 3 decimal places\n",
    "X_train.var().round(3)"
   ]
  },
  {
   "cell_type": "markdown",
   "id": "dramatic-doctor",
   "metadata": {
    "id": "hundred-aluminum"
   },
   "source": [
    "# 9. Log Normalization"
   ]
  },
  {
   "cell_type": "code",
   "execution_count": 11,
   "id": "present-favorite",
   "metadata": {
    "id": "plastic-turtle",
    "outputId": "3fdff60a-3e9e-4312-fbaf-3ab2f2436fe3"
   },
   "outputs": [
    {
     "data": {
      "text/plain": [
       "Recency (months)      66.929\n",
       "Frequency (times)     33.830\n",
       "Time (months)        611.147\n",
       "monetary_log           0.837\n",
       "dtype: float64"
      ]
     },
     "execution_count": 11,
     "metadata": {},
     "output_type": "execute_result"
    }
   ],
   "source": [
    "# Import numpy\n",
    "import numpy as np\n",
    "\n",
    "\n",
    "\n",
    "#Copy X_train and X_test into X_train_normed and X_test_normed\n",
    "X_train_normed, X_test_normed = X_train.copy(), X_test.copy()\n",
    "\n",
    "# Specify which column to normalize\n",
    "col_to_normalize = 'Monetary (c.c. blood)'\n",
    "\n",
    "# Log normalization\n",
    "for df_ in [X_train_normed, X_test_normed]:\n",
    "    # Add log normalized column\n",
    "    df_['monetary_log'] = np.log(df_[col_to_normalize])\n",
    "    # Drop the original column\n",
    "    df_.drop(columns=col_to_normalize, inplace=True)\n",
    "\n",
    "# Check the variance for X_train_normed\n",
    "X_train_normed.var().round(3)"
   ]
  },
  {
   "cell_type": "markdown",
   "id": "integrated-nomination",
   "metadata": {
    "id": "traditional-massage"
   },
   "source": [
    "# 10 . Training Linear Regression Model"
   ]
  },
  {
   "cell_type": "code",
   "execution_count": 12,
   "id": "regulation-ontario",
   "metadata": {
    "id": "automated-chile",
    "outputId": "ae34097f-02f7-48ec-fd38-dfbcb84b8371"
   },
   "outputs": [
    {
     "name": "stdout",
     "output_type": "stream",
     "text": [
      "\n",
      "AUC score: 0.7891\n"
     ]
    }
   ],
   "source": [
    "# Importing module\n",
    "from sklearn import linear_model\n",
    "\n",
    "\n",
    "#Instantiate LogisticRegression\n",
    "logreg = linear_model.LogisticRegression(\n",
    "    solver='liblinear',\n",
    "    random_state=42\n",
    ")\n",
    "\n",
    "#Train the Model\n",
    "logreg.fit(X_train_normed,y_train)\n",
    "\n",
    "\n",
    "# AUC score for tpot model\n",
    "logreg_auc_score = roc_auc_score(y_test, logreg.predict_proba(X_test_normed)[:, 1])\n",
    "print(f'\\nAUC score: {logreg_auc_score:.4f}')"
   ]
  },
  {
   "cell_type": "markdown",
   "id": "characteristic-dublin",
   "metadata": {
    "id": "handy-possible"
   },
   "source": [
    "# 11. Conclusion"
   ]
  },
  {
   "cell_type": "code",
   "execution_count": 16,
   "id": "dimensional-brass",
   "metadata": {
    "id": "generous-lesbian",
    "outputId": "557b3774-288e-4ece-9af5-a74d14d99c3a"
   },
   "outputs": [
    {
     "data": {
      "text/plain": [
       "[('tpot', 0.7637476160203432), ('logreg', 0.7890972663699937)]"
      ]
     },
     "execution_count": 16,
     "metadata": {},
     "output_type": "execute_result"
    }
   ],
   "source": [
    "\n",
    "\n",
    "\n",
    "# Import itemgetter\n",
    "from operator import itemgetter\n",
    "\n",
    "\n",
    "# Sort models based on their AUC score from highest to lowest\n",
    "sorted(\n",
    "    [('tpot', tpot_auc_score), ('logreg', logreg_auc_score)],\n",
    "    key=itemgetter(1),\n",
    "    \n",
    ")"
   ]
  },
  {
   "cell_type": "code",
   "execution_count": 17,
   "id": "careful-princeton",
   "metadata": {
    "id": "southwest-amazon"
   },
   "outputs": [],
   "source": [
    "import pickle"
   ]
  },
  {
   "cell_type": "code",
   "execution_count": 18,
   "id": "difficult-configuration",
   "metadata": {
    "id": "alone-contractor"
   },
   "outputs": [],
   "source": [
    "pickle.dump(logreg,open('model.pkl','wb'))\n"
   ]
  },
  {
   "cell_type": "code",
   "execution_count": null,
   "id": "traditional-jaguar",
   "metadata": {
    "id": "hearing-drink"
   },
   "outputs": [],
   "source": []
  },
  {
   "cell_type": "code",
   "execution_count": null,
   "id": "whole-concept",
   "metadata": {},
   "outputs": [],
   "source": []
  }
 ],
 "metadata": {
  "colab": {
   "name": "Technocolabs.ipynb",
   "provenance": [],
   "toc_visible": true
  },
  "kernelspec": {
   "display_name": "Python 3",
   "language": "python",
   "name": "python3"
  },
  "language_info": {
   "codemirror_mode": {
    "name": "ipython",
    "version": 3
   },
   "file_extension": ".py",
   "mimetype": "text/x-python",
   "name": "python",
   "nbconvert_exporter": "python",
   "pygments_lexer": "ipython3",
   "version": "3.9.2"
  }
 },
 "nbformat": 4,
 "nbformat_minor": 5
}
